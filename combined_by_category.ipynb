{
 "cells": [
  {
   "cell_type": "code",
   "execution_count": null,
   "id": "d9c0d1c3",
   "metadata": {},
   "outputs": [],
   "source": [
    "import pyspark\n",
    "from pyspark.sql.functions import col\n",
    "from pyspark.sql.functions import when"
   ]
  },
  {
   "cell_type": "code",
   "execution_count": null,
   "id": "c227ec2c",
   "metadata": {},
   "outputs": [],
   "source": [
    "spark = pyspark.sql.SparkSession.builder.appName(\"eCommerce data\").getOrCreate()"
   ]
  },
  {
   "cell_type": "markdown",
   "id": "0f14f082",
   "metadata": {},
   "source": [
    "#### read data from all files of all months"
   ]
  },
  {
   "cell_type": "code",
   "execution_count": null,
   "id": "d3e89477",
   "metadata": {},
   "outputs": [],
   "source": [
    "output_path = \"results/combined-by-category/\"\n",
    "input_path = \"data/\"\n",
    "df = spark.read.csv(input_path, header=True)"
   ]
  },
  {
   "cell_type": "markdown",
   "id": "e48f8ec0",
   "metadata": {},
   "source": [
    "#### take a look at the dataframe"
   ]
  },
  {
   "cell_type": "code",
   "execution_count": null,
   "id": "8b9adc25",
   "metadata": {},
   "outputs": [],
   "source": [
    "df.show(5)"
   ]
  },
  {
   "cell_type": "markdown",
   "id": "df061615",
   "metadata": {},
   "source": [
    "#### get total number of events"
   ]
  },
  {
   "cell_type": "code",
   "execution_count": null,
   "id": "cd8b6ab9",
   "metadata": {},
   "outputs": [],
   "source": [
    "df.count()"
   ]
  },
  {
   "cell_type": "markdown",
   "id": "5b7e782d",
   "metadata": {},
   "source": [
    "#### filter out null categories"
   ]
  },
  {
   "cell_type": "code",
   "execution_count": null,
   "id": "84255955",
   "metadata": {},
   "outputs": [],
   "source": [
    "df_not_null = df.where(col(\"category_code\") != \"null\")"
   ]
  },
  {
   "cell_type": "markdown",
   "id": "fe8122a9",
   "metadata": {},
   "source": [
    "#### only keep one entry per user, product, and event"
   ]
  },
  {
   "cell_type": "code",
   "execution_count": null,
   "id": "54daef2e",
   "metadata": {},
   "outputs": [],
   "source": [
    "df_final = df_not_null.dropDuplicates(subset=['user_id', 'product_id', 'event_type'])"
   ]
  },
  {
   "cell_type": "markdown",
   "id": "7b251815",
   "metadata": {},
   "source": [
    "#### correct data by replacing category_code \"construction.tools.light\" by \"electronics.smartphone\""
   ]
  },
  {
   "cell_type": "code",
   "execution_count": null,
   "id": "8a1aad01",
   "metadata": {},
   "outputs": [],
   "source": [
    "df_corrected = df_final.withColumn(\"category_code\",\n",
    "                                      when(col(\"category_code\") == \"construction.tools.light\",\n",
    "                                           \"electronics.smartphone\").otherwise(col(\"category_code\")))"
   ]
  },
  {
   "cell_type": "markdown",
   "id": "518896c4",
   "metadata": {},
   "source": [
    "#### from rows of corrected data only filter 'view' event"
   ]
  },
  {
   "cell_type": "code",
   "execution_count": null,
   "id": "3f2b3263",
   "metadata": {},
   "outputs": [],
   "source": [
    "df_view = df_corrected.where(col(\"event_type\") == \"view\")"
   ]
  },
  {
   "cell_type": "markdown",
   "id": "d2419984",
   "metadata": {},
   "source": [
    "#### group results by category code, count and sort then write results to file"
   ]
  },
  {
   "cell_type": "code",
   "execution_count": null,
   "id": "0b59ab4d",
   "metadata": {},
   "outputs": [],
   "source": [
    "df_view.groupBy('category_code').count().sort(col(\"count\")).write.csv(output_path + \"view-by-category\")"
   ]
  },
  {
   "cell_type": "markdown",
   "id": "f4acd7dc",
   "metadata": {},
   "source": [
    "#### from rows of corrected data only filter 'purchase' event"
   ]
  },
  {
   "cell_type": "code",
   "execution_count": null,
   "id": "b6a41931",
   "metadata": {},
   "outputs": [],
   "source": [
    "df_purchase = df_corrected.where(col(\"event_type\") == \"purchase\")"
   ]
  },
  {
   "cell_type": "markdown",
   "id": "b74532b6",
   "metadata": {},
   "source": [
    "#### group results by category code, count and sort then write results to file"
   ]
  },
  {
   "cell_type": "code",
   "execution_count": null,
   "id": "04b3d59f",
   "metadata": {},
   "outputs": [],
   "source": [
    "df_purchase.groupBy('category_code').count().sort(col(\"count\")).write.csv(output_path + \"purchase-by-category\")"
   ]
  },
  {
   "cell_type": "markdown",
   "id": "00123535",
   "metadata": {},
   "source": [
    "#### from rows of corrected data only filter 'cart' event"
   ]
  },
  {
   "cell_type": "code",
   "execution_count": null,
   "id": "61ab8c2f",
   "metadata": {},
   "outputs": [],
   "source": [
    "df_cart = df_corrected.where(col(\"event_type\") == \"cart\")"
   ]
  },
  {
   "cell_type": "markdown",
   "id": "5893c8d3",
   "metadata": {},
   "source": [
    "#### group results by category code, count and sort then write results to file"
   ]
  },
  {
   "cell_type": "code",
   "execution_count": null,
   "id": "b5c8a248",
   "metadata": {},
   "outputs": [],
   "source": [
    "df_cart.groupBy('category_code').count().sort(col(\"count\")).write.csv(output_path + \"cart-by-category\")"
   ]
  }
 ],
 "metadata": {
  "kernelspec": {
   "display_name": "Python 3",
   "language": "python",
   "name": "python3"
  },
  "language_info": {
   "codemirror_mode": {
    "name": "ipython",
    "version": 3
   },
   "file_extension": ".py",
   "mimetype": "text/x-python",
   "name": "python",
   "nbconvert_exporter": "python",
   "pygments_lexer": "ipython3",
   "version": "3.8.8"
  }
 },
 "nbformat": 4,
 "nbformat_minor": 5
}
