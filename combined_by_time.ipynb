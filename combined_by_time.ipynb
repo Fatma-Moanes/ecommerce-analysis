{
 "cells": [
  {
   "cell_type": "code",
   "execution_count": 1,
   "id": "d9c0d1c3",
   "metadata": {},
   "outputs": [],
   "source": [
    "import pyspark\n",
    "from pyspark.sql.functions import col\n",
    "from pyspark.sql.functions import desc\n",
    "from pyspark.sql.functions import when\n",
    "from pyspark.sql.functions import split\n",
    "from pyspark.sql.types import IntegerType"
   ]
  },
  {
   "cell_type": "code",
   "execution_count": 2,
   "id": "c227ec2c",
   "metadata": {},
   "outputs": [],
   "source": [
    "spark = pyspark.sql.SparkSession.builder.appName(\"eCommerce data\").getOrCreate()"
   ]
  },
  {
   "cell_type": "code",
   "execution_count": 3,
   "id": "d3e89477",
   "metadata": {},
   "outputs": [],
   "source": [
    "output_path = \"results/combined-by-time/\"\n",
    "path = \"data/\"\n",
    "df = spark.read.csv(path, header=True)"
   ]
  },
  {
   "cell_type": "markdown",
   "id": "d6c486d5",
   "metadata": {},
   "source": [
    "#### extract only day part from event time and create new dataframe"
   ]
  },
  {
   "cell_type": "code",
   "execution_count": 4,
   "id": "4264cec5",
   "metadata": {},
   "outputs": [
    {
     "name": "stdout",
     "output_type": "stream",
     "text": [
      "+----------+----------+----------+-------------------+--------------------+-------+------+---------+--------------------+\n",
      "|event_time|event_type|product_id|        category_id|       category_code|  brand| price|  user_id|        user_session|\n",
      "+----------+----------+----------+-------------------+--------------------+-------+------+---------+--------------------+\n",
      "|        01|      view|  10900348|2232732105912091273|appliances.kitche...|kitfort|117.63|550295099|23f5ab9e-7774-416...|\n",
      "|        01|      view|  14300020|2232732107967300275|   apparel.underwear|  casio|264.37|622070532|edf19213-f0dd-46e...|\n",
      "|        01|      view|  13200063|2232732061804790604|furniture.bedroom...|   null|126.10|552832344|608087d8-6b69-21d...|\n",
      "|        01|      view| 100077498|2232732085846540487|construction.tool...| tamina|424.72|613391860|5ab6c3d5-edd7-4e1...|\n",
      "|        01|      view|   1005014|2232732093077520756|construction.tool...|samsung|482.73|517021211|0c34308d-c455-40b...|\n",
      "+----------+----------+----------+-------------------+--------------------+-------+------+---------+--------------------+\n",
      "only showing top 5 rows\n",
      "\n"
     ]
    }
   ],
   "source": [
    "df_day = df.withColumn(\"event_time\", df['event_time'].substr(9, 2))\n",
    "df_day.show(5)"
   ]
  },
  {
   "cell_type": "markdown",
   "id": "ad910299",
   "metadata": {},
   "source": [
    "#### extract only day and month parts from event time and create new dataframe"
   ]
  },
  {
   "cell_type": "code",
   "execution_count": 7,
   "id": "952118a5",
   "metadata": {},
   "outputs": [
    {
     "name": "stdout",
     "output_type": "stream",
     "text": [
      "+----------+----------+----------+-------------------+--------------------+-------+------+---------+--------------------+\n",
      "|event_time|event_type|product_id|        category_id|       category_code|  brand| price|  user_id|        user_session|\n",
      "+----------+----------+----------+-------------------+--------------------+-------+------+---------+--------------------+\n",
      "|     03-01|      view|  10900348|2232732105912091273|appliances.kitche...|kitfort|117.63|550295099|23f5ab9e-7774-416...|\n",
      "|     03-01|      view|  14300020|2232732107967300275|   apparel.underwear|  casio|264.37|622070532|edf19213-f0dd-46e...|\n",
      "|     03-01|      view|  13200063|2232732061804790604|furniture.bedroom...|   null|126.10|552832344|608087d8-6b69-21d...|\n",
      "|     03-01|      view| 100077498|2232732085846540487|construction.tool...| tamina|424.72|613391860|5ab6c3d5-edd7-4e1...|\n",
      "|     03-01|      view|   1005014|2232732093077520756|construction.tool...|samsung|482.73|517021211|0c34308d-c455-40b...|\n",
      "+----------+----------+----------+-------------------+--------------------+-------+------+---------+--------------------+\n",
      "only showing top 5 rows\n",
      "\n"
     ]
    }
   ],
   "source": [
    "df_month_day = df.withColumn(\"event_time\", df['event_time'].substr(6, 5))\n",
    "df_month_day.show(5)"
   ]
  },
  {
   "cell_type": "markdown",
   "id": "518896c4",
   "metadata": {},
   "source": [
    "#### from rows from new dataframes only filter 'view' event"
   ]
  },
  {
   "cell_type": "code",
   "execution_count": 6,
   "id": "3f2b3263",
   "metadata": {},
   "outputs": [],
   "source": [
    "df_view_day = df_day.where(col(\"event_type\") == \"view\")\n",
    "df_view_month_day = df_month_day.where(col(\"event_type\") == \"view\")"
   ]
  },
  {
   "cell_type": "markdown",
   "id": "d2419984",
   "metadata": {},
   "source": [
    "#### group results by time, count and sort then write results to file"
   ]
  },
  {
   "cell_type": "code",
   "execution_count": 7,
   "id": "0b59ab4d",
   "metadata": {},
   "outputs": [],
   "source": [
    "df_view_day.groupBy('event_time').count().sort(col(\"event_time\")).write.csv(output_path + \"view-by-day\")"
   ]
  },
  {
   "cell_type": "code",
   "execution_count": 8,
   "id": "e0ca5509",
   "metadata": {},
   "outputs": [],
   "source": [
    "df_view_month_day.groupBy('event_time').count().sort(col(\"event_time\")).write.csv(output_path + \"view-by-month-day\")"
   ]
  },
  {
   "cell_type": "markdown",
   "id": "f4acd7dc",
   "metadata": {},
   "source": [
    "\n",
    "#### from rows from new dataframes only filter 'purchase' event"
   ]
  },
  {
   "cell_type": "code",
   "execution_count": 8,
   "id": "b6a41931",
   "metadata": {},
   "outputs": [],
   "source": [
    "df_purchase_day = df_day.where(col(\"event_type\") == \"purchase\")\n",
    "df_purchase_month_day = df_month_day.where(col(\"event_type\") == \"purchase\")"
   ]
  },
  {
   "cell_type": "markdown",
   "id": "b74532b6",
   "metadata": {},
   "source": [
    "#### group results by time, count and sort then write results to file"
   ]
  },
  {
   "cell_type": "code",
   "execution_count": 10,
   "id": "04b3d59f",
   "metadata": {},
   "outputs": [],
   "source": [
    "df_purchase_day.groupBy('event_time').count().sort(col(\"event_time\")).write.csv(output_path + \"purchase-by-day\")\n",
    "df_purchase_month_day.groupBy('event_time').count().sort(col(\"event_time\")).write.csv(output_path + \"purchase-by-month-day\")"
   ]
  },
  {
   "cell_type": "markdown",
   "id": "00123535",
   "metadata": {},
   "source": [
    "#### from rows from new dataframes only filter 'cart' event"
   ]
  },
  {
   "cell_type": "code",
   "execution_count": 11,
   "id": "61ab8c2f",
   "metadata": {},
   "outputs": [],
   "source": [
    "df_cart_day = df_day.where(col(\"event_type\") == \"cart\")\n",
    "df_cart_month_day = df_month_day.where(col(\"event_type\") == \"cart\")"
   ]
  },
  {
   "cell_type": "markdown",
   "id": "5893c8d3",
   "metadata": {},
   "source": [
    "#### group results by time, count and sort then write results to file"
   ]
  },
  {
   "cell_type": "code",
   "execution_count": 12,
   "id": "b5c8a248",
   "metadata": {},
   "outputs": [],
   "source": [
    "df_cart_day.groupBy('event_time').count().sort(col(\"event_time\")).write.csv(output_path + \"cart-by-day\")\n",
    "df_cart_month_day.groupBy('event_time').count().sort(col(\"event_time\")).write.csv(output_path + \"cart-by-month-day\")"
   ]
  },
  {
   "cell_type": "markdown",
   "id": "6edb5977",
   "metadata": {},
   "source": [
    "# Below we will find the time analysis of customer behaviour for different categories"
   ]
  },
  {
   "cell_type": "markdown",
   "id": "888e2f28",
   "metadata": {},
   "source": [
    "#### from rows of df_purchase_day only filter \"electronics.smartphone\" category"
   ]
  },
  {
   "cell_type": "code",
   "execution_count": 9,
   "id": "160058b8",
   "metadata": {},
   "outputs": [],
   "source": [
    "df_phones = df_purchase_day.where(col(\"category_code\") == \"electronics.smartphone\")"
   ]
  },
  {
   "cell_type": "markdown",
   "id": "71a593a5",
   "metadata": {},
   "source": [
    "#### group results by time, count and sort then write results to file"
   ]
  },
  {
   "cell_type": "code",
   "execution_count": 10,
   "id": "6d7fdbc2",
   "metadata": {},
   "outputs": [],
   "source": [
    "df_phones.groupBy('event_time').count().sort(col(\"event_time\")).write.csv(output_path + \"phones-purchase-by-day\")"
   ]
  },
  {
   "cell_type": "markdown",
   "id": "9bdbdaef",
   "metadata": {},
   "source": [
    "#### from rows of df_purchase_day only filter \"appliances.kitchen.refrigerators\" category"
   ]
  },
  {
   "cell_type": "code",
   "execution_count": 11,
   "id": "14032233",
   "metadata": {},
   "outputs": [],
   "source": [
    "df_refrigerator = df_purchase_day.where(col(\"category_code\") == \"appliances.kitchen.refrigerators\")"
   ]
  },
  {
   "cell_type": "markdown",
   "id": "2e89f1fb",
   "metadata": {},
   "source": [
    "#### group results by time, count and sort then write results to file"
   ]
  },
  {
   "cell_type": "code",
   "execution_count": 12,
   "id": "573a93f2",
   "metadata": {},
   "outputs": [],
   "source": [
    "df_refrigerator.groupBy('event_time').count().sort(col(\"event_time\")).write.csv(output_path + \"refrigerator-purchase-by-day\")"
   ]
  },
  {
   "cell_type": "markdown",
   "id": "c3e138ca",
   "metadata": {},
   "source": [
    "#### from rows of df_purchase_day only filter \"furniture.bedroom.blanket\" category"
   ]
  },
  {
   "cell_type": "code",
   "execution_count": 13,
   "id": "9c79608b",
   "metadata": {},
   "outputs": [],
   "source": [
    "df_blanket = df_purchase_day.where(col(\"category_code\") == \"furniture.bedroom.blanket\")"
   ]
  },
  {
   "cell_type": "markdown",
   "id": "866a5855",
   "metadata": {},
   "source": [
    "#### group results by time, count and sort then write results to file"
   ]
  },
  {
   "cell_type": "code",
   "execution_count": 14,
   "id": "89a3072f",
   "metadata": {},
   "outputs": [],
   "source": [
    "df_blanket.groupBy('event_time').count().sort(col(\"event_time\")).write.csv(output_path + \"blanket-purchase-by-day\")"
   ]
  },
  {
   "cell_type": "markdown",
   "id": "242b8f58",
   "metadata": {},
   "source": [
    "#### from rows of df_purchase_day only filter \"kids.fmcg.diapers\" category"
   ]
  },
  {
   "cell_type": "code",
   "execution_count": 9,
   "id": "4c7d9d41",
   "metadata": {},
   "outputs": [],
   "source": [
    "df_diapers = df_purchase_day.where(col(\"category_code\") == \"kids.fmcg.diapers\")"
   ]
  },
  {
   "cell_type": "markdown",
   "id": "47c00e40",
   "metadata": {},
   "source": [
    "#### group results by time, count and sort then write results to file"
   ]
  },
  {
   "cell_type": "code",
   "execution_count": 10,
   "id": "e9e528ae",
   "metadata": {},
   "outputs": [],
   "source": [
    "df_diapers.groupBy('event_time').count().sort(col(\"event_time\")).write.csv(output_path + \"diapers-purchase-by-day\")"
   ]
  },
  {
   "cell_type": "markdown",
   "id": "3db39df6",
   "metadata": {},
   "source": [
    "#### extract only month from event time and create new dataframe"
   ]
  },
  {
   "cell_type": "code",
   "execution_count": 4,
   "id": "a2ae9b5d",
   "metadata": {},
   "outputs": [
    {
     "name": "stdout",
     "output_type": "stream",
     "text": [
      "+----------+----------+----------+-------------------+--------------------+-------+------+---------+--------------------+\n",
      "|event_time|event_type|product_id|        category_id|       category_code|  brand| price|  user_id|        user_session|\n",
      "+----------+----------+----------+-------------------+--------------------+-------+------+---------+--------------------+\n",
      "|        03|      view|  10900348|2232732105912091273|appliances.kitche...|kitfort|117.63|550295099|23f5ab9e-7774-416...|\n",
      "|        03|      view|  14300020|2232732107967300275|   apparel.underwear|  casio|264.37|622070532|edf19213-f0dd-46e...|\n",
      "|        03|      view|  13200063|2232732061804790604|furniture.bedroom...|   null|126.10|552832344|608087d8-6b69-21d...|\n",
      "|        03|      view| 100077498|2232732085846540487|construction.tool...| tamina|424.72|613391860|5ab6c3d5-edd7-4e1...|\n",
      "|        03|      view|   1005014|2232732093077520756|construction.tool...|samsung|482.73|517021211|0c34308d-c455-40b...|\n",
      "+----------+----------+----------+-------------------+--------------------+-------+------+---------+--------------------+\n",
      "only showing top 5 rows\n",
      "\n"
     ]
    }
   ],
   "source": [
    "df_month = df.withColumn(\"event_time\", df['event_time'].substr(6, 2))\n",
    "df_month.show(5)"
   ]
  },
  {
   "cell_type": "markdown",
   "id": "4ac01391",
   "metadata": {},
   "source": [
    "#### group results by time, sum price and sort then write results to file"
   ]
  },
  {
   "cell_type": "code",
   "execution_count": 10,
   "id": "d4b37e28",
   "metadata": {},
   "outputs": [],
   "source": [
    "df_month = df_month.withColumn(\"price\", col(\"price\").cast(IntegerType()))\n",
    "df_month.groupBy('event_time').sum(\"price\").sort(col(\"event_time\")).write.csv(output_path + \"sales-by-month\")"
   ]
  }
 ],
 "metadata": {
  "kernelspec": {
   "display_name": "Python 3",
   "language": "python",
   "name": "python3"
  },
  "language_info": {
   "codemirror_mode": {
    "name": "ipython",
    "version": 3
   },
   "file_extension": ".py",
   "mimetype": "text/x-python",
   "name": "python",
   "nbconvert_exporter": "python",
   "pygments_lexer": "ipython3",
   "version": "3.8.8"
  }
 },
 "nbformat": 4,
 "nbformat_minor": 5
}
