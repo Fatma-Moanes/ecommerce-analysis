{
 "cells": [
  {
   "cell_type": "code",
   "execution_count": 1,
   "id": "d9c0d1c3",
   "metadata": {},
   "outputs": [],
   "source": [
    "import pyspark\n",
    "from pyspark.sql.functions import col\n",
    "from pyspark.sql.functions import when"
   ]
  },
  {
   "cell_type": "code",
   "execution_count": 2,
   "id": "c227ec2c",
   "metadata": {},
   "outputs": [],
   "source": [
    "spark = pyspark.sql.SparkSession.builder.appName(\"eCommerce data\").getOrCreate()"
   ]
  },
  {
   "cell_type": "code",
   "execution_count": 3,
   "id": "d3e89477",
   "metadata": {},
   "outputs": [],
   "source": [
    "output_path = \"results/combined-by-category-brand/\"\n",
    "path = \"data/\"\n",
    "df = spark.read.csv(path, header=True)"
   ]
  },
  {
   "cell_type": "markdown",
   "id": "df061615",
   "metadata": {},
   "source": [
    "#### get total number of events for this month"
   ]
  },
  {
   "cell_type": "code",
   "execution_count": 5,
   "id": "cd8b6ab9",
   "metadata": {},
   "outputs": [
    {
     "data": {
      "text/plain": [
       "411709736"
      ]
     },
     "execution_count": 5,
     "metadata": {},
     "output_type": "execute_result"
    }
   ],
   "source": [
    "df.count()"
   ]
  },
  {
   "cell_type": "markdown",
   "id": "5b7e782d",
   "metadata": {},
   "source": [
    "#### filter out null brands or categories"
   ]
  },
  {
   "cell_type": "code",
   "execution_count": 4,
   "id": "84255955",
   "metadata": {},
   "outputs": [],
   "source": [
    "df_not_null = df.where((col(\"brand\") != \"null\") & (col(\"category_code\") != \"null\"))"
   ]
  },
  {
   "cell_type": "markdown",
   "id": "d3727bbc",
   "metadata": {},
   "source": [
    "#### only keep one entry per user, product, and event"
   ]
  },
  {
   "cell_type": "code",
   "execution_count": 5,
   "id": "61b2e788",
   "metadata": {},
   "outputs": [],
   "source": [
    "df_final = df_not_null.dropDuplicates(subset=['user_id', 'product_id', 'event_type'])"
   ]
  },
  {
   "cell_type": "markdown",
   "id": "2683e294",
   "metadata": {},
   "source": [
    "#### correct data by replacing category_code \"construction.tools.light\" by \"electronics.smartphone\""
   ]
  },
  {
   "cell_type": "code",
   "execution_count": 6,
   "id": "2bbf4b75",
   "metadata": {},
   "outputs": [],
   "source": [
    "df_corrected = df_final.withColumn(\"category_code\",\n",
    "                                      when(col(\"category_code\") == \"construction.tools.light\",\n",
    "                                           \"electronics.smartphone\").otherwise(col(\"category_code\")))"
   ]
  },
  {
   "cell_type": "markdown",
   "id": "518896c4",
   "metadata": {},
   "source": [
    "#### from rows of corrected data only filter 'view' event"
   ]
  },
  {
   "cell_type": "code",
   "execution_count": 7,
   "id": "3f2b3263",
   "metadata": {},
   "outputs": [],
   "source": [
    "df_view = df_corrected.where(col(\"event_type\") == \"view\")"
   ]
  },
  {
   "cell_type": "markdown",
   "id": "d2419984",
   "metadata": {},
   "source": [
    "#### group results by category code and brand, count and sort then write results to file"
   ]
  },
  {
   "cell_type": "code",
   "execution_count": 10,
   "id": "0b59ab4d",
   "metadata": {},
   "outputs": [],
   "source": [
    "df_view.groupBy('category_code', 'brand').count().sort(col(\"count\")).write.csv(output_path + \"view-by-category-brand\")"
   ]
  },
  {
   "cell_type": "markdown",
   "id": "f4acd7dc",
   "metadata": {},
   "source": [
    "#### from rows of corrected data only filter 'purchase' event"
   ]
  },
  {
   "cell_type": "code",
   "execution_count": 11,
   "id": "b6a41931",
   "metadata": {},
   "outputs": [],
   "source": [
    "df_purchase = df_corrected.where(col(\"event_type\") == \"purchase\")"
   ]
  },
  {
   "cell_type": "markdown",
   "id": "b74532b6",
   "metadata": {},
   "source": [
    "#### group results by category code, count and sort then write results to file"
   ]
  },
  {
   "cell_type": "code",
   "execution_count": 12,
   "id": "04b3d59f",
   "metadata": {},
   "outputs": [],
   "source": [
    "df_purchase.groupBy('category_code', 'brand').count().sort(col(\"count\")).write.csv(output_path + \"purchase-by-category-brand\")"
   ]
  },
  {
   "cell_type": "markdown",
   "id": "00123535",
   "metadata": {},
   "source": [
    "#### from rows of corrected data only filter 'cart' event"
   ]
  },
  {
   "cell_type": "code",
   "execution_count": 13,
   "id": "61ab8c2f",
   "metadata": {},
   "outputs": [],
   "source": [
    "df_cart = df_corrected.where(col(\"event_type\") == \"cart\")"
   ]
  },
  {
   "cell_type": "markdown",
   "id": "5893c8d3",
   "metadata": {},
   "source": [
    "#### group results by category code, count and sort then write results to file"
   ]
  },
  {
   "cell_type": "code",
   "execution_count": 14,
   "id": "b5c8a248",
   "metadata": {},
   "outputs": [],
   "source": [
    "df_cart.groupBy('category_code', 'brand').count().sort(col(\"count\")).write.csv(output_path + \"cart-by-category-brand\")"
   ]
  }
 ],
 "metadata": {
  "kernelspec": {
   "display_name": "Python 3",
   "language": "python",
   "name": "python3"
  },
  "language_info": {
   "codemirror_mode": {
    "name": "ipython",
    "version": 3
   },
   "file_extension": ".py",
   "mimetype": "text/x-python",
   "name": "python",
   "nbconvert_exporter": "python",
   "pygments_lexer": "ipython3",
   "version": "3.8.8"
  }
 },
 "nbformat": 4,
 "nbformat_minor": 5
}
